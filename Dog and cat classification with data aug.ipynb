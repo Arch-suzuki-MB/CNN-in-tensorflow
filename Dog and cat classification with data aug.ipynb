{
  "nbformat": 4,
  "nbformat_minor": 0,
  "metadata": {
    "colab": {
      "provenance": [],
      "authorship_tag": "ABX9TyNIWCqaQcvVONZdwU1lL+tb",
      "include_colab_link": true
    },
    "kernelspec": {
      "name": "python3",
      "display_name": "Python 3"
    },
    "language_info": {
      "name": "python"
    },
    "gpuClass": "standard"
  },
  "cells": [
    {
      "cell_type": "markdown",
      "metadata": {
        "id": "view-in-github",
        "colab_type": "text"
      },
      "source": [
        "<a href=\"https://colab.research.google.com/github/Arch-suzuki-MB/CNN-in-tensorflow/blob/main/Dog%20and%20cat%20classification%20with%20data%20aug.ipynb\" target=\"_parent\"><img src=\"https://colab.research.google.com/assets/colab-badge.svg\" alt=\"Open In Colab\"/></a>"
      ]
    },
    {
      "cell_type": "code",
      "execution_count": 1,
      "metadata": {
        "id": "Gb1QcOcwCua_",
        "outputId": "1dfbf0b5-7743-4e20-9fd4-7a4bac547116",
        "colab": {
          "base_uri": "https://localhost:8080/"
        }
      },
      "outputs": [
        {
          "output_type": "stream",
          "name": "stdout",
          "text": [
            "--2022-12-14 09:52:52--  https://download.microsoft.com/download/3/E/1/3E1C3F21-ECDB-4869-8368-6DEBA77B919F/kagglecatsanddogs_5340.zip\n",
            "Resolving download.microsoft.com (download.microsoft.com)... 23.54.200.233, 2600:1408:c400:1680::317f, 2600:1408:c400:168a::317f\n",
            "Connecting to download.microsoft.com (download.microsoft.com)|23.54.200.233|:443... connected.\n",
            "HTTP request sent, awaiting response... 200 OK\n",
            "Length: 824887076 (787M) [application/octet-stream]\n",
            "Saving to: ‘cats-and-dogs.zip’\n",
            "\n",
            "cats-and-dogs.zip   100%[===================>] 786.67M   150MB/s    in 5.6s    \n",
            "\n",
            "2022-12-14 09:52:58 (141 MB/s) - ‘cats-and-dogs.zip’ saved [824887076/824887076]\n",
            "\n"
          ]
        }
      ],
      "source": [
        "!wget \"https://download.microsoft.com/download/3/E/1/3E1C3F21-ECDB-4869-8368-6DEBA77B919F/kagglecatsanddogs_5340.zip\" \\\n",
        "    -O \"cats-and-dogs.zip\""
      ]
    },
    {
      "cell_type": "code",
      "source": [
        "import tensorflow as tf \n",
        "import os\n",
        "import shutil\n",
        "import zipfile\n",
        "import matplotlib.image as mpimg\n",
        "import matplotlib.pyplot as plt\n",
        "import random\n",
        "from tensorflow.keras.preprocessing.image import ImageDataGenerator"
      ],
      "metadata": {
        "id": "j_DBvlLCWTQX"
      },
      "execution_count": 2,
      "outputs": []
    },
    {
      "cell_type": "code",
      "source": [
        "zip_ref=zipfile.ZipFile('cats-and-dogs.zip')\n",
        "zip_ref.extractall('dataset')\n",
        "zip_ref.close()\n",
        "dataset=os.path.join('/content/dataset/PetImages')"
      ],
      "metadata": {
        "id": "qUkDwyBSDGNJ"
      },
      "execution_count": 3,
      "outputs": []
    },
    {
      "cell_type": "code",
      "source": [
        "folder_path=['/content/train',\n",
        "             '/content/train/Cat',\n",
        "             '/content/train/Dog',\n",
        "             '/content/validation',\n",
        "             '/content/validation/Cat',\n",
        "             '/content/validation/Dog']\n",
        "\n",
        "for path in folder_path :\n",
        "  if os.path.exists(path)==False:\n",
        "    os.mkdir(path)\n",
        "\n",
        "path_train=os.path.join('/content/train')\n",
        "path_val=os.path.join('/content/validation')"
      ],
      "metadata": {
        "id": "okhBOpEHDcBg"
      },
      "execution_count": 4,
      "outputs": []
    },
    {
      "cell_type": "code",
      "source": [
        "print('nbre de classe dans le dataset',os.listdir(dataset))\n",
        "print('le nbre d\\'images cats  ',len(os.listdir(dataset+'/Cat')))\n",
        "print('le nbre d\\'images dogs  ',len(os.listdir(dataset+'/Dog')))"
      ],
      "metadata": {
        "id": "lKhg0ptmDcDg",
        "outputId": "76f62f33-23ce-47a7-d5ef-365312878562",
        "colab": {
          "base_uri": "https://localhost:8080/"
        }
      },
      "execution_count": 5,
      "outputs": [
        {
          "output_type": "stream",
          "name": "stdout",
          "text": [
            "nbre de classe dans le dataset ['Cat', 'Dog']\n",
            "le nbre d'images cats   12501\n",
            "le nbre d'images dogs   12501\n"
          ]
        }
      ]
    },
    {
      "cell_type": "code",
      "source": [
        "def split_dataset(src_dir=dataset,target_dir=[path_train,path_val],split=0.9):\n",
        "  class_names=os.listdir(dataset)\n",
        "  class_names_train=os.listdir(path_train)\n",
        "  class_names_val=os.listdir(path_val)\n",
        "\n",
        "  for c in class_names:\n",
        "    path_class=os.path.join(src_dir+'/'+c)\n",
        "    img_names=[]\n",
        "    for name in os.listdir(path_class):\n",
        "      img_names.append(path_class+'/'+name)\n",
        "  \n",
        "    size_class=len(os.listdir(src_dir+'/'+c))\n",
        "    size_train_split=int(size_class*split)\n",
        "    #print(img_names)\n",
        "    \n",
        "    train_img=random.sample(img_names,size_train_split)\n",
        "    val_img=list(set(img_names)-set(train_img))\n",
        "    \n",
        "    for i in train_img:\n",
        "      target_class=os.path.join(target_dir[0]+'/'+c)\n",
        "      if(os.path.getsize(i)):\n",
        "        shutil.copy(i,target_class)\n",
        "    \n",
        "    for i in val_img:\n",
        "      target_class=os.path.join(target_dir[1]+'/'+c)\n",
        "      if(os.path.getsize(i)):\n",
        "        shutil.copy(i,target_class)\n",
        "  return  target_dir"
      ],
      "metadata": {
        "id": "Id2lLx0wDcGM"
      },
      "execution_count": 6,
      "outputs": []
    },
    {
      "cell_type": "code",
      "source": [
        "target_dir=split_dataset()"
      ],
      "metadata": {
        "id": "8esun9iAD6ye"
      },
      "execution_count": 7,
      "outputs": []
    },
    {
      "cell_type": "markdown",
      "source": [
        "## Data augmentation "
      ],
      "metadata": {
        "id": "t4aNUIOvDpuO"
      }
    },
    {
      "cell_type": "code",
      "source": [
        "train_gen=ImageDataGenerator(\n",
        "    rescale=1/255,\n",
        "    rotation_range=40,\n",
        "    height_shift_range=0.3,\n",
        "    width_shift_range=0.3,\n",
        "    zoom_range=0.2,\n",
        "    vertical_flip=True,\n",
        "    shear_range=0.2,\n",
        "    fill_mode='nearest')\n",
        "\n",
        "\n",
        "train_generator=train_gen.flow_from_directory(\n",
        "    target_dir[0],\n",
        "    batch_size=45,\n",
        "    class_mode='binary',\n",
        "    target_size=(150,150))\n",
        "\n",
        "\n",
        "val_gen=ImageDataGenerator(\n",
        "    rescale=1/255,\n",
        "    rotation_range=40,\n",
        "    height_shift_range=0.3,\n",
        "    width_shift_range=0.3,\n",
        "    zoom_range=0.2,\n",
        "    vertical_flip=True,\n",
        "    shear_range=0.2,\n",
        "    fill_mode='nearest')\n",
        "\n",
        "val_generator=val_gen.flow_from_directory(\n",
        "    target_dir[1],\n",
        "    batch_size=16,\n",
        "    class_mode='binary',\n",
        "    target_size=(150,150))"
      ],
      "metadata": {
        "id": "vOxhGjZfDcI_",
        "outputId": "322fc81d-50ba-4e1a-fbcb-ee9ce0fab8c3",
        "colab": {
          "base_uri": "https://localhost:8080/"
        }
      },
      "execution_count": 17,
      "outputs": [
        {
          "output_type": "stream",
          "name": "stdout",
          "text": [
            "Found 22496 images belonging to 2 classes.\n",
            "Found 2502 images belonging to 2 classes.\n"
          ]
        }
      ]
    },
    {
      "cell_type": "code",
      "source": [
        "def design_model():\n",
        "  model=tf.keras.models.Sequential([tf.keras.layers.Conv2D(16,(3,3),activation='relu',input_shape=(150,150,3)),\n",
        "                                    tf.keras.layers.MaxPooling2D((2,2)),\n",
        "                                    tf.keras.layers.Conv2D(32,(3,3),activation='relu'),\n",
        "                                    tf.keras.layers.MaxPooling2D((2,2)),\n",
        "                                    tf.keras.layers.Conv2D(64,(3,3),activation='relu'),\n",
        "                                    tf.keras.layers.MaxPooling2D((2,2)),\n",
        "\n",
        "                                    tf.keras.layers.Flatten(),\n",
        "                                    tf.keras.layers.Dense(512,activation='relu'),\n",
        "                                    tf.keras.layers.Dense(1,activation='sigmoid')\n",
        "  ])\n",
        "  model.compile(optimizer='adam',loss='binary_crossentropy',metrics=['acc'])\n",
        "  return model"
      ],
      "metadata": {
        "id": "VZoQPjGQDcK9"
      },
      "execution_count": 18,
      "outputs": []
    },
    {
      "cell_type": "code",
      "source": [
        "model=design_model()\n",
        "model.summary()"
      ],
      "metadata": {
        "id": "N40Po9-FDcNz",
        "outputId": "bd4cb724-2bdb-4cae-bb49-4b68c7aed688",
        "colab": {
          "base_uri": "https://localhost:8080/"
        }
      },
      "execution_count": 19,
      "outputs": [
        {
          "output_type": "stream",
          "name": "stdout",
          "text": [
            "Model: \"sequential_1\"\n",
            "_________________________________________________________________\n",
            " Layer (type)                Output Shape              Param #   \n",
            "=================================================================\n",
            " conv2d_3 (Conv2D)           (None, 148, 148, 16)      448       \n",
            "                                                                 \n",
            " max_pooling2d_3 (MaxPooling  (None, 74, 74, 16)       0         \n",
            " 2D)                                                             \n",
            "                                                                 \n",
            " conv2d_4 (Conv2D)           (None, 72, 72, 32)        4640      \n",
            "                                                                 \n",
            " max_pooling2d_4 (MaxPooling  (None, 36, 36, 32)       0         \n",
            " 2D)                                                             \n",
            "                                                                 \n",
            " conv2d_5 (Conv2D)           (None, 34, 34, 64)        18496     \n",
            "                                                                 \n",
            " max_pooling2d_5 (MaxPooling  (None, 17, 17, 64)       0         \n",
            " 2D)                                                             \n",
            "                                                                 \n",
            " flatten_1 (Flatten)         (None, 18496)             0         \n",
            "                                                                 \n",
            " dense_2 (Dense)             (None, 512)               9470464   \n",
            "                                                                 \n",
            " dense_3 (Dense)             (None, 1)                 513       \n",
            "                                                                 \n",
            "=================================================================\n",
            "Total params: 9,494,561\n",
            "Trainable params: 9,494,561\n",
            "Non-trainable params: 0\n",
            "_________________________________________________________________\n"
          ]
        }
      ]
    },
    {
      "cell_type": "code",
      "source": [
        "#train the model \n",
        "import warnings\n",
        "warnings.filterwarnings('ignore')\n",
        "hist = model.fit(\n",
        "          train_generator,\n",
        "          validation_data=val_generator,\n",
        "          epochs=15\n",
        "          )"
      ],
      "metadata": {
        "id": "VvadGodCDcQO",
        "outputId": "bb42056d-9ca8-4e41-bdda-6ab25db45a79",
        "colab": {
          "base_uri": "https://localhost:8080/"
        }
      },
      "execution_count": 20,
      "outputs": [
        {
          "output_type": "stream",
          "name": "stdout",
          "text": [
            "Epoch 1/15\n",
            "500/500 [==============================] - 723s 1s/step - loss: 0.6683 - acc: 0.5924 - val_loss: 0.6318 - val_acc: 0.6403\n",
            "Epoch 2/15\n",
            "500/500 [==============================] - 731s 1s/step - loss: 0.6215 - acc: 0.6518 - val_loss: 0.6044 - val_acc: 0.6910\n",
            "Epoch 3/15\n",
            "500/500 [==============================] - 726s 1s/step - loss: 0.5981 - acc: 0.6745 - val_loss: 0.5845 - val_acc: 0.6839\n",
            "Epoch 4/15\n",
            "500/500 [==============================] - 722s 1s/step - loss: 0.5784 - acc: 0.6905 - val_loss: 0.5783 - val_acc: 0.7186\n",
            "Epoch 5/15\n",
            "500/500 [==============================] - 726s 1s/step - loss: 0.5659 - acc: 0.7040 - val_loss: 0.5563 - val_acc: 0.7130\n",
            "Epoch 6/15\n",
            "500/500 [==============================] - 700s 1s/step - loss: 0.5506 - acc: 0.7163 - val_loss: 0.5265 - val_acc: 0.7398\n",
            "Epoch 7/15\n",
            "500/500 [==============================] - 666s 1s/step - loss: 0.5363 - acc: 0.7286 - val_loss: 0.5275 - val_acc: 0.7366\n",
            "Epoch 8/15\n",
            "500/500 [==============================] - 677s 1s/step - loss: 0.5267 - acc: 0.7368 - val_loss: 0.5163 - val_acc: 0.7458\n",
            "Epoch 9/15\n",
            "500/500 [==============================] - 689s 1s/step - loss: 0.5169 - acc: 0.7421 - val_loss: 0.5300 - val_acc: 0.7450\n",
            "Epoch 10/15\n",
            "500/500 [==============================] - 666s 1s/step - loss: 0.5036 - acc: 0.7509 - val_loss: 0.4838 - val_acc: 0.7698\n",
            "Epoch 11/15\n",
            "500/500 [==============================] - 669s 1s/step - loss: 0.4964 - acc: 0.7617 - val_loss: 0.4971 - val_acc: 0.7610\n",
            "Epoch 12/15\n",
            "500/500 [==============================] - 693s 1s/step - loss: 0.4821 - acc: 0.7672 - val_loss: 0.5012 - val_acc: 0.7518\n",
            "Epoch 13/15\n",
            "500/500 [==============================] - 700s 1s/step - loss: 0.4788 - acc: 0.7700 - val_loss: 0.4742 - val_acc: 0.7866\n",
            "Epoch 14/15\n",
            "500/500 [==============================] - 696s 1s/step - loss: 0.4672 - acc: 0.7781 - val_loss: 0.4679 - val_acc: 0.7754\n",
            "Epoch 15/15\n",
            "500/500 [==============================] - 702s 1s/step - loss: 0.4611 - acc: 0.7844 - val_loss: 0.4912 - val_acc: 0.7838\n"
          ]
        }
      ]
    },
    {
      "cell_type": "code",
      "source": [
        "epochs=hist.epoch\n",
        "acc=hist.history['acc']\n",
        "val_acc=hist.history['val_acc']\n",
        "\n",
        "loss=hist.history['loss']\n",
        "val_loss=hist.history['val_loss']\n",
        "\n",
        "plt.figure(figsize=(10,5))\n",
        "plt.subplot(1,2,1)\n",
        "plt.plot(epochs,acc,'r')\n",
        "plt.plot(epochs,val_acc,'b')\n",
        "plt.title(\"accuracy graph\")\n",
        "plt.legend(\"accuracy\")\n",
        "\n",
        "plt.subplot(1,2,2)\n",
        "plt.plot(epochs,loss,'r')\n",
        "plt.plot(epochs,val_loss,'b')\n",
        "plt.legend(\"loss\")\n",
        "plt.title(\"loss graph\")"
      ],
      "metadata": {
        "id": "l71DSeo5DcSQ",
        "outputId": "e8388dde-d03a-4f00-dd58-66f6d997ced1",
        "colab": {
          "base_uri": "https://localhost:8080/",
          "height": 353
        }
      },
      "execution_count": 21,
      "outputs": [
        {
          "output_type": "execute_result",
          "data": {
            "text/plain": [
              "Text(0.5, 1.0, 'loss graph')"
            ]
          },
          "metadata": {},
          "execution_count": 21
        },
        {
          "output_type": "display_data",
          "data": {
            "text/plain": [
              "<Figure size 720x360 with 2 Axes>"
            ],
            "image/png": "[encoded data removed]"
          },
          "metadata": {
            "needs_background": "light"
          }
        }
      ]
    }
  ]
}